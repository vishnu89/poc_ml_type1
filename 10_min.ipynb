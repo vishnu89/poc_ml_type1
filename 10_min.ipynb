{
 "cells": [
  {
   "cell_type": "code",
   "execution_count": 1,
   "metadata": {},
   "outputs": [
    {
     "name": "stdout",
     "output_type": "stream",
     "text": [
      "['id', 'age', 'workclass', 'education', 'marital_status', 'occupation', 'relationship', 'race', 'sex', 'hrprwk', 'native_country', 'income_group']\n"
     ]
    }
   ],
   "source": [
    "import os,sys\n",
    "sys.path.append(os.path.join(os.getcwd(),'machine_learning','loan_1'))\n",
    "from min_10 import *\n",
    "from sklearn.tree import DecisionTreeClassifier\n",
    "%matplotlib inline\n",
    "test, train = init(prints=True)\n",
    "categorical_atr = get_atr_by_type(train, 'object')"
   ]
  },
  {
   "cell_type": "code",
   "execution_count": 2,
   "metadata": {},
   "outputs": [
    {
     "name": "stdout",
     "output_type": "stream",
     "text": [
      "White                 0.854274\nBlack                 0.095943\nAsian-Pac-Islander    0.031909\nAmer-Indian-Eskimo    0.009551\nOther                 0.008323\nName: race, dtype: float64\n"
     ]
    }
   ],
   "source": [
    "print normalizer(train.race,train.native_country)['race']"
   ]
  },
  {
   "cell_type": "code",
   "execution_count": 3,
   "metadata": {},
   "outputs": [],
   "source": [
    "p = lambda x: x/float(x[-1])\n",
    "ct = pd.crosstab(train.sex,train.income_group,margins=True)\n",
    "print ct\n",
    "print ct.apply(p,axis=1).ix[:-1,:-1].plot(kind='bar',stacked=True,color=['r','g'],grid=True)"
   ]
  },
  {
   "cell_type": "code",
   "execution_count": 4,
   "metadata": {},
   "outputs": [],
   "source": [
    "train.boxplot(column='hrprwk',by='sex')"
   ]
  },
  {
   "cell_type": "code",
   "execution_count": 5,
   "metadata": {},
   "outputs": [],
   "source": [
    "train.plot('id','age',kind='scatter')\n",
    "train.plot('age','hrprwk',kind='scatter')"
   ]
  },
  {
   "cell_type": "code",
   "execution_count": 16,
   "metadata": {},
   "outputs": [
    {
     "name": "stdout",
     "output_type": "stream",
     "text": [
      "id                32561\nage                  73\nworkclass             7\neducation            16\nmarital_status        7\noccupation           13\nrelationship          6\nrace                  5\nsex                   2\nhrprwk               94\nnative_country        4\nincome_group          2\ndtype: int64\n"
     ]
    }
   ],
   "source": [
    "test,train = init()\n",
    "test,train = init_fill(test,train)\n",
    "test,train = init_transform(test,train,threshold=.005)\n",
    "print train.apply(count_class)\n",
    "le = LabelEncoder()\n",
    "for v in categorical_atr:\n",
    "    train[v] = le.fit_transform(train[v])\n",
    "    if v != 'income_group':\n",
    "        test[v] = le.fit_transform(test[v])"
   ]
  },
  {
   "cell_type": "code",
   "execution_count": 4,
   "metadata": {},
   "outputs": [
    {
     "name": "stdout",
     "output_type": "stream",
     "text": [
      "['age', 'workclass', 'education', 'marital_status', 'occupation', 'relationship', 'race', 'sex', 'hrprwk', 'native_country']\n"
     ]
    }
   ],
   "source": [
    "dependent_variable = 'income_group'\n",
    "independent_variable = [x for x in train.columns if x not in ['id',dependent_variable]]\n",
    "print independent_variable"
   ]
  },
  {
   "cell_type": "code",
   "execution_count": 5,
   "metadata": {},
   "outputs": [
    {
     "name": "stdout",
     "output_type": "stream",
     "text": [
      "id                0\nage               0\nworkclass         0\neducation         0\nmarital_status    0\noccupation        0\nrelationship      0\nrace              0\nsex               0\nhrprwk            0\nnative_country    0\nincome_group      0\ndtype: int64\n"
     ]
    }
   ],
   "source": [
    "print train.apply(num_missing)\n",
    "def my_model(*a,**ka):\n",
    "    model = DecisionTreeClassifier(*a,**ka)\n",
    "    model.fit(train[independent_variable],train[dependent_variable])\n",
    "    predictions_train = model.predict(train[independent_variable])\n",
    "    predictions_test = model.predict(test[independent_variable])\n",
    "    acc_train = accuracy_score(train[dependent_variable],predictions_train)\n",
    "    print 'Train accuracy: %s' % acc_train"
   ]
  },
  {
   "cell_type": "code",
   "execution_count": 17,
   "metadata": {},
   "outputs": [
    {
     "name": "stdout",
     "output_type": "stream",
     "text": [
      "Train accuracy: 0.809403888087\n"
     ]
    }
   ],
   "source": [
    "my_model(max_depth=10,min_samples_leaf=100,max_features='sqrt')"
   ]
  },
  {
   "cell_type": "code",
   "execution_count": 19,
   "metadata": {},
   "outputs": [],
   "source": [
    ""
   ]
  }
 ],
 "metadata": {},
 "nbformat": 4,
 "nbformat_minor": 0
}